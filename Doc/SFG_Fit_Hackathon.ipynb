{
  "cells": [
    {
      "cell_type": "markdown",
      "metadata": {
        "id": "RrGkfBUhbZaO"
      },
      "source": [
        "# Fitting SFG Curves with Multiple Resonant Peaks\n",
        "Using the iminuit package, select a window of SFG spectra and perform a non-linear fit of nonresonant and a variable number ($N^{res}$) of resonant peaks accoring to the equation\n",
        "$$ \\mathrm{SFG}(\\omega) = \\left| A^{nonres}e^{i\\phi} + \\sum_{j=0}^{N^{res}}\\frac{A^{res}_j}{\\omega - \\omega^{res}_j+i\\Gamma_j}\\right|^2 $$\n",
        "where the parameters that we want to determine are the nonresonant amplitue ($A^{nonres}$) and phase ($\\phi$), as well as the amplitude, position, and width of each resonant peak ($A^{res}_j$, $\\omega^{res}_j$, and $\\Gamma_j$, respectively).\n",
        "\n",
        "Developers : Oliviero Andreussi, Lindsey Jenkins, Tiara Sivells, Pranav Viswanathan, Jenee Cyran\n"
      ]
    },
    {
      "cell_type": "markdown",
      "metadata": {
        "id": "yP0yJJKQNktU"
      },
      "source": [
        "## Mount the Google Drive"
      ]
    },
    {
      "cell_type": "code",
      "execution_count": null,
      "metadata": {
        "colab": {
          "base_uri": "https://localhost:8080/"
        },
        "id": "0AnDQJeYGWXS",
        "outputId": "5ec0472c-255b-48cb-8b7a-995f398be673"
      },
      "outputs": [],
      "source": [
        "from google.colab import drive\n",
        "drive.mount('/content/drive')"
      ]
    },
    {
      "cell_type": "markdown",
      "metadata": {
        "id": "B7Oq-i8qNwz2"
      },
      "source": [
        "## Import External Modules"
      ]
    },
    {
      "cell_type": "code",
      "execution_count": null,
      "metadata": {
        "colab": {
          "base_uri": "https://localhost:8080/"
        },
        "id": "NwPTreNGvkM3",
        "outputId": "9b497d42-87ae-40c0-c1f1-9600f0822102"
      },
      "outputs": [],
      "source": [
        "import matplotlib.pyplot as plt\n",
        "import numpy as np\n",
        "import pandas as pd\n",
        "!pip install iminuit\n",
        "from iminuit import Minuit"
      ]
    },
    {
      "cell_type": "markdown",
      "metadata": {
        "id": "EWn49Cvpekjq"
      },
      "source": [
        "## Define Basic Functions for the Fitting"
      ]
    },
    {
      "cell_type": "code",
      "execution_count": null,
      "metadata": {
        "id": "ggA7aMuvJ5nF"
      },
      "outputs": [],
      "source": [
        "# Basic functions for the fitting of nonresonant and resonant peaks\n",
        "def chi_non_resonant(nr: float, phase: float) -> np.complex128 :\n",
        "  \"\"\"\n",
        "  Given the non-resonant parameters return a single complex-valued number\n",
        "  for the non-resonant process\n",
        "  \"\"\"\n",
        "  ChiNR = nr * np.exp(1j * phase)\n",
        "  return ChiNR\n",
        "\n",
        "def chi_resonant(wavenumbers: np.ndarray[np.float64], amplitude: float, pos: float, width: float) -> np.ndarray[np.complex128]:\n",
        "  \"\"\"\n",
        "  Given a range of wavenumbers and the parameters of a resonant peak return\n",
        "  the complex values of the peak for each wavenumber\n",
        "  \"\"\"\n",
        "  A = amplitude\n",
        "  delta = wavenumbers - pos\n",
        "  gamma = width / 2\n",
        "  ChiR_i = -(A * gamma / (delta**2 + gamma**2))\n",
        "  ChiR_r = A * delta / (delta**2 + gamma**2)\n",
        "  ChiR = ChiR_r + (1j * ChiR_i)\n",
        "  return ChiR"
      ]
    },
    {
      "cell_type": "markdown",
      "metadata": {
        "id": "aO1BOBjoOAMH"
      },
      "source": [
        "## Load Data"
      ]
    },
    {
      "cell_type": "code",
      "execution_count": null,
      "metadata": {
        "id": "PkdntaEKuooq"
      },
      "outputs": [],
      "source": [
        "# @title Set path and select file { display-mode: \"form\" }\n",
        "# Data should be cleaned using MATLAB data cleaner first\n",
        "path = '/content/drive/MyDrive/Colab Notebooks/' # @param {type:\"string\"}\n",
        "x = pd.read_csv(path+'xaxis.csv',names=['Wavenumbers'],skiprows=1) #skips header\n",
        "y = pd.read_csv(path+'yaxis.csv',names=['SFG'],skiprows=1) #change name to what sample it is\n",
        "\n",
        "# Uncomment to make sure that the size of the arrays are the same size\n",
        "# x.shape\n",
        "# y.shape\n",
        "# Makes the arrays into a data structure\n",
        "data = pd.concat([x,y],axis=1)"
      ]
    },
    {
      "cell_type": "markdown",
      "metadata": {
        "id": "TNlgK0xJPGTH"
      },
      "source": [
        "## Plot of data"
      ]
    },
    {
      "cell_type": "code",
      "execution_count": null,
      "metadata": {
        "colab": {
          "base_uri": "https://localhost:8080/",
          "height": 466
        },
        "id": "eyNFA111HT_q",
        "outputId": "667316b7-1225-48c9-98eb-f83e61e22343"
      },
      "outputs": [],
      "source": [
        "data.plot('Wavenumbers', 'SFG')"
      ]
    },
    {
      "cell_type": "code",
      "execution_count": null,
      "metadata": {
        "colab": {
          "base_uri": "https://localhost:8080/",
          "height": 449
        },
        "id": "VpzCx_6cIYzu",
        "outputId": "5f3acb85-9bf6-4416-efaa-1f2151ac528a"
      },
      "outputs": [],
      "source": [
        "# @title Resize the window of the spectrum { display-mode: \"form\" }\n",
        "WMin = 2700 # @param {type:\"number\"}\n",
        "WMax  = 3500 # @param {type:\"number\"}\n",
        "filtered_data = data.query(f'Wavenumbers > {WMin} and Wavenumbers < {WMax}')\n",
        "# Plots the data with the new range\n",
        "filtered_data.plot('Wavenumbers','SFG')\n",
        "wavenumbers = filtered_data['Wavenumbers'].values\n",
        "sfg = filtered_data['SFG'].values"
      ]
    },
    {
      "cell_type": "markdown",
      "metadata": {
        "id": "NOVhywAtgJ0Y"
      },
      "source": [
        "## Fit a Single Resonant Peak"
      ]
    },
    {
      "cell_type": "code",
      "execution_count": null,
      "metadata": {
        "id": "zR3_wi2NKF_1"
      },
      "outputs": [],
      "source": [
        "# Parameters for each peak\n",
        "# Change to parameters in water\n",
        "nr = { \"amplitude\": 0.10399,\n",
        "       \"phase\": np.pi }\n",
        "r0 = { \"amplitude\" : 2,\n",
        "       \"pos\" : 3270.,\n",
        "       \"width\" : 20 }\n",
        "r1 = { \"amplitude\": 16.1201,\n",
        "       \"pos\": 3325,\n",
        "       \"width\": 200 }"
      ]
    },
    {
      "cell_type": "code",
      "execution_count": null,
      "metadata": {
        "colab": {
          "base_uri": "https://localhost:8080/"
        },
        "id": "m-DqA9MWLfdK",
        "outputId": "13d4ac41-7d43-406e-dbd0-63eab9a90940"
      },
      "outputs": [],
      "source": [
        "chi_non_resonant(nr['amplitude'],nr['phase'])"
      ]
    },
    {
      "cell_type": "code",
      "execution_count": null,
      "metadata": {
        "colab": {
          "base_uri": "https://localhost:8080/"
        },
        "id": "o9BFsJbhNT3t",
        "outputId": "ed753d5e-b450-45f1-b499-02ae8f8795d1"
      },
      "outputs": [],
      "source": [
        "chi_resonant(filtered_data['Wavenumbers'],r0['amplitude'],r0['pos'],r0['width'])"
      ]
    },
    {
      "cell_type": "code",
      "execution_count": null,
      "metadata": {
        "id": "BWF29q7nOzHT"
      },
      "outputs": [],
      "source": [
        "# functions to fit and cost functions, with explicit parameters\n",
        "# NOTE: these functions use wavenumbers and sfg defined in the global\n",
        "# scope of the notebook\n",
        "\n",
        "def calcamplitude(nr, phase, amplitude, pos, width):\n",
        "  ChiNR = chi_non_resonant(nr, phase)\n",
        "  ChiR = chi_resonant(wavenumbers, amplitude, pos, width)\n",
        "  Chi = ChiNR + ChiR\n",
        "  return np.square(Chi.real) + np.square(Chi.imag)\n",
        "\n",
        "def costfunction(nr, phase, amplitude, pos, width):\n",
        "  return np.sum((sfg - calcamplitude(nr, phase, amplitude, pos, width))**2)"
      ]
    },
    {
      "cell_type": "code",
      "execution_count": null,
      "metadata": {
        "colab": {
          "base_uri": "https://localhost:8080/"
        },
        "id": "G3mCtkNJkI_Q",
        "outputId": "1747743f-5b41-45cf-abe4-20a22a6482c2"
      },
      "outputs": [],
      "source": [
        "calcamplitude(nr['amplitude'],nr['phase'],r0['amplitude'],r0['pos'],r0['width'])"
      ]
    },
    {
      "cell_type": "markdown",
      "metadata": {
        "id": "u9lVJQSdeI5J"
      },
      "source": [
        "Trying to see if the parameters we chose are reasonable for the data"
      ]
    },
    {
      "cell_type": "code",
      "execution_count": null,
      "metadata": {
        "colab": {
          "base_uri": "https://localhost:8080/",
          "height": 447
        },
        "id": "erapuMvaMkzT",
        "outputId": "0444a8ed-20d0-49d2-d434-5c6b1b12b88d"
      },
      "outputs": [],
      "source": [
        "plt.plot(filtered_data['Wavenumbers'],calcamplitude(nr['amplitude'],nr['phase'],r0['amplitude'],r0['pos'],r0['width']))\n",
        "plt.plot(filtered_data['Wavenumbers'],filtered_data['SFG'])"
      ]
    },
    {
      "cell_type": "code",
      "execution_count": null,
      "metadata": {
        "colab": {
          "base_uri": "https://localhost:8080/",
          "height": 447
        },
        "id": "NExJsUI0P16b",
        "outputId": "e1d1895b-05de-4bea-84d2-fc273f0da710"
      },
      "outputs": [],
      "source": [
        "# @title Adjust the initial parameters to check the convergence of the fit { display-mode: \"form\" }\n",
        "nonres_amplitude = 0.1 # @param {type:\"number\"}\n",
        "nonres_phase  = 3.14# @param {type:\"number\"}\n",
        "res_amplitude = 0.005 # @param {type:\"number\"}\n",
        "res_pos = 3200 # @param {type:\"number\"}\n",
        "res_width = 30 # @param {type:\"number\"}\n",
        "\n",
        "fitting_args = {'nr': nonres_amplitude, 'phase': nonres_phase, 'amplitude': res_amplitude, 'pos': res_pos, 'width': res_width}\n",
        "fit = Minuit(costfunction, **fitting_args)\n",
        "# Ranges should only be positive\n",
        "fit.limits[\"nr\"] = (0, None)\n",
        "fit.limits[\"phase\"] = (0, 2*np.pi)\n",
        "fit.limits[\"amplitude\"] = (0, None)\n",
        "fit.limits[\"pos\"] = (WMin, WMax)\n",
        "fit.limits[\"width\"] = (0, None)\n",
        "\n",
        "# perform the fit\n",
        "fit.migrad()\n",
        "\n",
        "# plot result of fit with optimized parameters vs. experiment\n",
        "plt.plot(filtered_data['Wavenumbers'],calcamplitude(fit.params[0].value,fit.params[1].value,fit.params[2].value,fit.params[3].value,fit.params[4].value))\n",
        "plt.plot(filtered_data['Wavenumbers'],filtered_data['SFG'])"
      ]
    },
    {
      "cell_type": "markdown",
      "metadata": {
        "id": "MbCNTr33sSZT"
      },
      "source": [
        "This step performs the actual optmization of the parameters (the results look cool, not sure what all these numbers mean...)"
      ]
    },
    {
      "cell_type": "code",
      "execution_count": null,
      "metadata": {
        "colab": {
          "base_uri": "https://localhost:8080/",
          "height": 401
        },
        "id": "pfFrdOvyqAoH",
        "outputId": "6d39e0d4-e3d3-4bde-c202-fc7e6bd51b1f"
      },
      "outputs": [],
      "source": [
        "fit.migrad()"
      ]
    },
    {
      "cell_type": "markdown",
      "metadata": {
        "id": "QngvygBWrVSh"
      },
      "source": [
        "Initial parameters"
      ]
    },
    {
      "cell_type": "code",
      "execution_count": null,
      "metadata": {
        "colab": {
          "base_uri": "https://localhost:8080/",
          "height": 145
        },
        "id": "lCZ7zclIq91W",
        "outputId": "30675e6c-50f8-42da-d950-ab4fefbc5d8b"
      },
      "outputs": [],
      "source": [
        "fit.init_params"
      ]
    },
    {
      "cell_type": "markdown",
      "metadata": {
        "id": "ArcSgJ1WrW_J"
      },
      "source": [
        "Optimized parameters"
      ]
    },
    {
      "cell_type": "code",
      "execution_count": null,
      "metadata": {
        "colab": {
          "base_uri": "https://localhost:8080/",
          "height": 145
        },
        "id": "MwpuTJ0FrodL",
        "outputId": "d0275090-fe73-4009-aa9b-02d657242a67"
      },
      "outputs": [],
      "source": [
        "fit.params"
      ]
    },
    {
      "cell_type": "markdown",
      "metadata": {
        "id": "F3Z-2enUsvFP"
      },
      "source": [
        "We can access the final value and associated error with the .value and .error attributes"
      ]
    },
    {
      "cell_type": "code",
      "execution_count": null,
      "metadata": {
        "colab": {
          "base_uri": "https://localhost:8080/"
        },
        "id": "93Mvg5uArXnh",
        "outputId": "d3f948a3-e59e-4fbc-d6c2-a469933f695e"
      },
      "outputs": [],
      "source": [
        "print(fit.params[0].value,fit.params[0].error)"
      ]
    },
    {
      "cell_type": "markdown",
      "metadata": {
        "id": "9Tk4FQmmtJsi"
      },
      "source": [
        "Now we can reuse the calcamplitude function with the optimal parameters to compare to the experimental data"
      ]
    },
    {
      "cell_type": "code",
      "execution_count": null,
      "metadata": {
        "colab": {
          "base_uri": "https://localhost:8080/",
          "height": 447
        },
        "id": "qBBXuzeurh8H",
        "outputId": "efcf9261-a922-48eb-e11f-50ed64633cf5"
      },
      "outputs": [],
      "source": [
        "plt.plot(filtered_data['Wavenumbers'],calcamplitude(fit.params[0].value,fit.params[1].value,fit.params[2].value,fit.params[3].value,fit.params[4].value))\n",
        "plt.plot(filtered_data['Wavenumbers'],filtered_data['SFG'])"
      ]
    },
    {
      "cell_type": "markdown",
      "metadata": {
        "id": "ykPKSenoyPRQ"
      },
      "source": [
        "## Still only one resonant peak, but with a more flexible implementation"
      ]
    },
    {
      "cell_type": "markdown",
      "metadata": {
        "id": "MMh5m5quyS3h"
      },
      "source": [
        "This creates a new dictionary with all the parameters from the individual components we want to fit"
      ]
    },
    {
      "cell_type": "code",
      "execution_count": null,
      "metadata": {
        "id": "IZHF9O--zM1H"
      },
      "outputs": [],
      "source": [
        "maxnres = 5 # global parameter with the maximum number of resonant peaks that we will ever need"
      ]
    },
    {
      "cell_type": "code",
      "execution_count": null,
      "metadata": {
        "colab": {
          "base_uri": "https://localhost:8080/"
        },
        "id": "L9Win710t2n1",
        "outputId": "94c2ec96-e2a0-40d0-a0a0-86aaf174934e"
      },
      "outputs": [],
      "source": [
        "fitting_dictionaries = { 'nr' : nr, 'r0' : r0 }\n",
        "parameters = {}\n",
        "for label, dictionary in fitting_dictionaries.items() :\n",
        "  new = { label+'_'+k:v for k, v in dictionary.items()}\n",
        "  parameters = {**parameters,**new}\n",
        "print(parameters)"
      ]
    },
    {
      "cell_type": "code",
      "execution_count": null,
      "metadata": {
        "colab": {
          "base_uri": "https://localhost:8080/"
        },
        "id": "1U9SryqU2DXR",
        "outputId": "001c4669-b86f-4a30-82b5-f47c0b9670b0"
      },
      "outputs": [],
      "source": [
        "parameters.keys()"
      ]
    },
    {
      "cell_type": "code",
      "execution_count": null,
      "metadata": {
        "id": "t7qi0zOvyXWl"
      },
      "outputs": [],
      "source": [
        "wavenumbers = filtered_data['Wavenumbers'].values\n",
        "sfg = filtered_data['SFG'].values\n",
        "# This implementation has a flexible fitting function, but the cost function still needs explicit parameters\n",
        "def calcamplitude(**kwds):\n",
        "  Chi = np.zeros(sfg.shape,dtype=np.complex128)\n",
        "  if 'nr_amplitude' in kwds.keys():\n",
        "    ChiNR = chi_non_resonant(kwds['nr_amplitude'], kwds['nr_phase'])\n",
        "    Chi = Chi + ChiNR\n",
        "  for i in range(maxnres):\n",
        "    if 'r'+str(i)+'_amplitude' in kwds.keys():\n",
        "       ChiR = chi_resonant(wavenumbers, kwds['r'+str(i)+'_amplitude'], kwds['r'+str(i)+'_pos'], kwds['r'+str(i)+'_width'])\n",
        "       Chi = Chi + ChiR\n",
        "  return np.square(Chi.real) + np.square(Chi.imag)\n",
        "\n",
        "def cost0(nr_amplitude, nr_phase, r0_amplitude, r0_pos, r0_width):\n",
        "  return np.sum((sfg - calcamplitude(nr_amplitude=nr_amplitude, nr_phase=nr_phase, \\\n",
        "                                     r0_amplitude=r0_amplitude, r0_pos=r0_pos, r0_width=r0_width))**2)\n"
      ]
    },
    {
      "cell_type": "code",
      "execution_count": null,
      "metadata": {
        "colab": {
          "base_uri": "https://localhost:8080/"
        },
        "id": "a-hDutxn3tlt",
        "outputId": "24684f47-dd56-4245-d744-5f0c65e9b03b"
      },
      "outputs": [],
      "source": [
        "chi_non_resonant(0.10399, np.pi)"
      ]
    },
    {
      "cell_type": "code",
      "execution_count": null,
      "metadata": {
        "colab": {
          "base_uri": "https://localhost:8080/"
        },
        "id": "FN5VpNmH5C1I",
        "outputId": "c1457b33-ecd4-439d-d85a-d17e01cca2b4"
      },
      "outputs": [],
      "source": [
        "chi_resonant(wavenumbers, parameters['r0_amplitude'], parameters['r0_pos'], parameters['r0_width'])"
      ]
    },
    {
      "cell_type": "code",
      "execution_count": null,
      "metadata": {
        "colab": {
          "base_uri": "https://localhost:8080/"
        },
        "id": "Sx7ywzNF3kX_",
        "outputId": "48623d6d-20f9-46ce-c460-72e25a487e00"
      },
      "outputs": [],
      "source": [
        "calcamplitude(**parameters)"
      ]
    },
    {
      "cell_type": "code",
      "execution_count": null,
      "metadata": {
        "colab": {
          "base_uri": "https://localhost:8080/",
          "height": 447
        },
        "id": "hkO1PkmZ3EnY",
        "outputId": "b176fc87-706c-4ef9-b891-dcf9478dcdfb"
      },
      "outputs": [],
      "source": [
        "plt.plot(filtered_data['Wavenumbers'],calcamplitude(**parameters))\n",
        "plt.plot(filtered_data['Wavenumbers'],filtered_data['SFG'])"
      ]
    },
    {
      "cell_type": "code",
      "execution_count": null,
      "metadata": {
        "id": "MPHdTMPTyo-O"
      },
      "outputs": [],
      "source": [
        "fit = Minuit(cost0, **parameters)\n",
        "# Ranges should only be positive\n",
        "if 'nr_amplitude' in parameters:\n",
        "  fit.limits[\"nr_amplitude\"] = (0, None)\n",
        "  fit.limits[\"nr_phase\"] = (0, 2*np.pi)\n",
        "for i in range(maxnres):\n",
        "  if 'r'+str(i)+'_amplitude' in parameters:\n",
        "    fit.limits['r'+str(i)+'_amplitude'] = (0, None)\n",
        "    fit.limits['r'+str(i)+'_pos'] = (WMin, WMax)\n",
        "    fit.limits['r'+str(i)+'_width'] = (0, None)\n"
      ]
    },
    {
      "cell_type": "code",
      "execution_count": null,
      "metadata": {
        "colab": {
          "base_uri": "https://localhost:8080/",
          "height": 401
        },
        "id": "6hqOPtuK00sf",
        "outputId": "3953e268-16b4-4482-b11a-3cecf0cb1808"
      },
      "outputs": [],
      "source": [
        "# perform the fit\n",
        "fit.migrad()"
      ]
    },
    {
      "cell_type": "markdown",
      "metadata": {
        "id": "FtLaKt_G8Y2y"
      },
      "source": [
        "## More than one resonant peak"
      ]
    },
    {
      "cell_type": "code",
      "execution_count": null,
      "metadata": {
        "colab": {
          "base_uri": "https://localhost:8080/",
          "height": 449
        },
        "id": "e2r6fPS08k3g",
        "outputId": "95fe3fb5-5097-42c1-83aa-5baa49734750"
      },
      "outputs": [],
      "source": [
        "# @title Resize the window of the spectrum { display-mode: \"form\" }\n",
        "WMin = 2740 # @param {type:\"number\"}\n",
        "WMax  = 3400 # @param {type:\"number\"}\n",
        "filtered_data = data.query(f'Wavenumbers > {WMin} and Wavenumbers < {WMax}').copy()\n",
        "filtered_data.plot('Wavenumbers','SFG')\n",
        "wavenumbers = filtered_data['Wavenumbers'].values\n",
        "sfg = filtered_data['SFG'].values"
      ]
    },
    {
      "cell_type": "code",
      "execution_count": null,
      "metadata": {
        "id": "MXEgsBiI8wwe"
      },
      "outputs": [],
      "source": [
        "# Parameters for each peak\n",
        "nr = { \"amplitude\": 0.10399,\n",
        "       \"phase\": np.pi }\n",
        "r0 = { \"amplitude\" : 3,\n",
        "       \"pos\" : 2870.,\n",
        "       \"width\" : 20 }\n",
        "r1 = { \"amplitude\": 7,\n",
        "       \"pos\": 2800,\n",
        "       \"width\": 50 }"
      ]
    },
    {
      "cell_type": "code",
      "execution_count": null,
      "metadata": {
        "colab": {
          "base_uri": "https://localhost:8080/"
        },
        "id": "LazPIwiv8azZ",
        "outputId": "a4f5800d-836f-4ee3-f06c-094237bd1e5f"
      },
      "outputs": [],
      "source": [
        "fitting_dictionaries = { 'nr' : nr, 'r0' : r0, 'r1' : r1 }\n",
        "parameters = {}\n",
        "for label, dictionary in fitting_dictionaries.items() :\n",
        "  new = { label+'_'+k:v for k, v in dictionary.items()}\n",
        "  parameters = {**parameters,**new}\n",
        "print(parameters)"
      ]
    },
    {
      "cell_type": "code",
      "execution_count": null,
      "metadata": {
        "id": "IhifDIA-9QeI"
      },
      "outputs": [],
      "source": [
        "def calcamplitude(**kwds):\n",
        "  Chi = np.zeros(sfg.shape,dtype=np.complex128)\n",
        "  if 'nr_amplitude' in kwds.keys():\n",
        "    ChiNR = chi_non_resonant(kwds['nr_amplitude'], kwds['nr_phase'])\n",
        "    Chi = Chi + ChiNR\n",
        "  for i in range(maxnres):\n",
        "    if 'r'+str(i)+'_amplitude' in kwds.keys():\n",
        "       ChiR = chi_resonant(wavenumbers, kwds['r'+str(i)+'_amplitude'], kwds['r'+str(i)+'_pos'], kwds['r'+str(i)+'_width'])\n",
        "       Chi = Chi + ChiR\n",
        "  return np.square(Chi.real) + np.square(Chi.imag)\n",
        "\n",
        "def calcimaginary(**kwds):\n",
        "  Chi = np.zeros(sfg.shape,dtype=np.complex128)\n",
        "  if 'nr_amplitude' in kwds.keys():\n",
        "    ChiNR = chi_non_resonant(kwds['nr_amplitude'], kwds['nr_phase'])\n",
        "    Chi = Chi + ChiNR\n",
        "  for i in range(maxnres):\n",
        "    if 'r'+str(i)+'_amplitude' in kwds.keys():\n",
        "       ChiR = chi_resonant(wavenumbers, kwds['r'+str(i)+'_amplitude'], kwds['r'+str(i)+'_pos'], kwds['r'+str(i)+'_width'])\n",
        "       Chi = Chi + ChiR\n",
        "  return Chi.imag\n",
        "\n",
        "def cost0(nr_amplitude, nr_phase, r0_amplitude, r0_pos, r0_width):\n",
        "  return np.sum((sfg - calcamplitude(nr_amplitude=nr_amplitude, nr_phase=nr_phase, \\\n",
        "                                     r0_amplitude=r0_amplitude, r0_pos=r0_pos, r0_width=r0_width))**2)\n",
        "\n",
        "def cost1(nr_amplitude, nr_phase, r0_amplitude, r0_pos, r0_width, r1_amplitude, r1_pos, r1_width ):\n",
        "  return np.sum((sfg - calcamplitude(nr_amplitude=nr_amplitude, nr_phase=nr_phase, \\\n",
        "                                     r0_amplitude=r0_amplitude, r0_pos=r0_pos, r0_width=r0_width,\\\n",
        "                                     r1_amplitude=r1_amplitude, r1_pos=r1_pos, r1_width=r1_width\\\n",
        "                                     ))**2)"
      ]
    },
    {
      "cell_type": "code",
      "execution_count": null,
      "metadata": {
        "id": "iqKJlNbr838a"
      },
      "outputs": [],
      "source": [
        "fit = Minuit(cost1, **parameters)\n",
        "# Ranges should only be positive\n",
        "if 'nr_amplitude' in parameters:\n",
        "  fit.limits[\"nr_amplitude\"] = (0, None)\n",
        "  fit.limits[\"nr_phase\"] = (0, 2*np.pi)\n",
        "for i in range(maxnres):\n",
        "  if 'r'+str(i)+'_amplitude' in parameters:\n",
        "    fit.limits['r'+str(i)+'_amplitude'] = (0, None)\n",
        "    fit.limits['r'+str(i)+'_pos'] = (WMin, WMax)\n",
        "    fit.limits['r'+str(i)+'_width'] = (0, None)"
      ]
    },
    {
      "cell_type": "code",
      "execution_count": null,
      "metadata": {
        "id": "IP-zJkMLBIED"
      },
      "outputs": [],
      "source": [
        "fit.fixed[\"nr_phase\"] = False\n",
        "fit.fixed[\"r0_pos\"] = False\n",
        "fit.fixed[\"r1_pos\"] = False"
      ]
    },
    {
      "cell_type": "code",
      "execution_count": null,
      "metadata": {
        "colab": {
          "base_uri": "https://localhost:8080/",
          "height": 527
        },
        "id": "uTqpqOk389GN",
        "outputId": "e9a93fb7-0705-4970-9135-4e056add0aad"
      },
      "outputs": [],
      "source": [
        "# perform the fit\n",
        "fit.migrad()"
      ]
    },
    {
      "cell_type": "markdown",
      "metadata": {
        "id": "R3rYsbdWNaq0"
      },
      "source": [
        "Create a new dictionary with all the optimized parameters (a better version than before)"
      ]
    },
    {
      "cell_type": "code",
      "execution_count": null,
      "metadata": {
        "colab": {
          "base_uri": "https://localhost:8080/"
        },
        "id": "2KGmjQZALngU",
        "outputId": "3b9d3cde-e215-4ad5-9eac-8b1660bec32e"
      },
      "outputs": [],
      "source": [
        "optimized_parameters = dict(zip(parameters.keys(),[p.value for p in fit.params]))\n",
        "optimized_parameters"
      ]
    },
    {
      "cell_type": "code",
      "execution_count": null,
      "metadata": {
        "colab": {
          "base_uri": "https://localhost:8080/",
          "height": 447
        },
        "id": "MfXyuRwP9AiD",
        "outputId": "fd06d5d2-4b10-4299-ee54-0045f6d348fd"
      },
      "outputs": [],
      "source": [
        "plt.plot(filtered_data['Wavenumbers'],calcamplitude(**optimized_parameters))\n",
        "plt.plot(filtered_data['Wavenumbers'],filtered_data['SFG'])"
      ]
    },
    {
      "cell_type": "code",
      "execution_count": null,
      "metadata": {
        "colab": {
          "base_uri": "https://localhost:8080/",
          "height": 447
        },
        "id": "11vpQkr3_UGF",
        "outputId": "03cefa15-bf03-4d19-d9e6-5dcd4b608bf3"
      },
      "outputs": [],
      "source": [
        "plt.plot(filtered_data['Wavenumbers'],calcimaginary(**optimized_parameters))"
      ]
    },
    {
      "cell_type": "markdown",
      "metadata": {
        "id": "VMfuxNZ5hTx9"
      },
      "source": [
        "## New attempt at a general cost function"
      ]
    },
    {
      "cell_type": "markdown",
      "metadata": {
        "id": "yyHL9ZusmPEP"
      },
      "source": [
        "Minuit documentation `help(Minuit)` explains that we can use costfunctions that depends on a variable number of arguments, provided they are positional arguments, I have a feeling that it does not work for keyword arguments. Thus, we can test using positional arguments `*args`, but for the time being we will assume that the arguments are ordered according to what we have done above (the first two are nonresonant parameters, then we have three parameters for each resonant function to add)."
      ]
    },
    {
      "cell_type": "code",
      "execution_count": null,
      "metadata": {
        "id": "1vB-MS5rhaKs"
      },
      "outputs": [],
      "source": [
        "def calcamplitude(*args):\n",
        "  Chi = np.zeros(sfg.shape,dtype=np.complex128)\n",
        "  Chi = Chi + chi_non_resonant(args[0], args[1])\n",
        "  nres = (len(args)-2)//3\n",
        "  for i in range(nres):\n",
        "    iarg = 3*i+2\n",
        "    ChiR = chi_resonant(wavenumbers, args[iarg], args[iarg+1], args[iarg+2])\n",
        "    Chi = Chi + ChiR\n",
        "  return np.square(Chi.real) + np.square(Chi.imag)\n",
        "\n",
        "def calcimaginary(*args):\n",
        "  Chi = np.zeros(sfg.shape,dtype=np.complex128)\n",
        "  Chi = Chi + chi_non_resonant(args[0], args[1])\n",
        "  nres = (len(args)-2)//3\n",
        "  for i in range(nres):\n",
        "    iarg = 3*i+2\n",
        "    ChiR = chi_resonant(wavenumbers, args[iarg], args[iarg+1], args[iarg+2])\n",
        "    Chi = Chi + ChiR\n",
        "  return Chi.imag\n",
        "\n",
        "def costfunction(*args):\n",
        "  return np.sum((sfg - calcamplitude(*args))**2)\n",
        "\n",
        "costfunction.errordef = Minuit.LEAST_SQUARES"
      ]
    },
    {
      "cell_type": "code",
      "execution_count": null,
      "metadata": {
        "id": "fFRAIK-JaNk1"
      },
      "outputs": [],
      "source": []
    },
    {
      "cell_type": "markdown",
      "metadata": {
        "id": "BHVzUFqVqv5K"
      },
      "source": [
        " NOTE: from Minuit documentation it explains that if the costfunction is a least-squares type, it should have an attribute fcn.errordef set to 1. I believe this is the default value, so it should not matter if we set it or not, but it does no harm to set it. Also, Minuit.LEAST_SQUARES is just a constant equal to 1, to be used to this purpose.\n",
        "\n",
        "```\n",
        " |  errordef\n",
        " |      Access FCN increment above minimum that corresponds to one standard deviation.\n",
        " |      \n",
        " |      Default value is 1.0. `errordef` should be 1.0 for a least-squares cost function\n",
        " |      and 0.5 for a negative log-likelihood function. See section 1.5.1 on page 6 of\n",
        " |      the :download:`MINUIT2 User's Guide <mnusersguide.pdf>`. This parameter is also\n",
        " |      called *UP* in MINUIT documents.\n",
        " |      \n",
        " |      If FCN has an attribute ``errordef``, its value is used automatically and you\n",
        " |      should not set errordef by hand. Doing so will raise a\n",
        " |      ErrordefAlreadySetWarning.\n",
        " |      \n",
        " |      For the builtin cost functions in :mod:`iminuit.cost`, you don't need to set\n",
        " |      this value, because they all have the ``errordef`` attribute set.\n",
        " |      \n",
        " |      To make user code more readable, we provided two named constants::\n",
        " |      \n",
        " |          m_lsq = Minuit(a_least_squares_function)\n",
        " |          m_lsq.errordef = Minuit.LEAST_SQUARES  # == 1\n",
        "\n",
        "```"
      ]
    },
    {
      "cell_type": "code",
      "execution_count": null,
      "metadata": {
        "id": "ektS3Otzm7py"
      },
      "outputs": [],
      "source": [
        "# Parameters for each peak\n",
        "# Change to parameters in water\n",
        "nr = { \"amplitude\": 0.10399,\n",
        "       \"phase\": np.pi }\n",
        "r0 = { \"amplitude\" : 0.5,\n",
        "       \"pos\" : 2800.,\n",
        "       \"width\" : 20 }\n",
        "r1 = { \"amplitude\": 0.5,\n",
        "       \"pos\": 2950,\n",
        "       \"width\": 20 }\n",
        "r2 = { \"amplitude\": 1,\n",
        "       \"pos\": 3200,\n",
        "       \"width\": 40 }"
      ]
    },
    {
      "cell_type": "markdown",
      "metadata": {
        "id": "lp7yrtuirRJa"
      },
      "source": [
        "Generate the full dictionary of parameters"
      ]
    },
    {
      "cell_type": "code",
      "execution_count": null,
      "metadata": {
        "colab": {
          "base_uri": "https://localhost:8080/"
        },
        "id": "h73YCQ72nIqz",
        "outputId": "55cd3832-c1ba-489b-e763-8a3cdc7ffd4a"
      },
      "outputs": [],
      "source": [
        "fitting_dictionaries = { 'nr' : nr, 'r0' : r0, 'r1' : r1, 'r2' : r2 }\n",
        "parameters = {}\n",
        "for label, dictionary in fitting_dictionaries.items() :\n",
        "  new = { label+'_'+k:v for k, v in dictionary.items()}\n",
        "  parameters = {**parameters,**new}\n",
        "print(parameters)"
      ]
    },
    {
      "cell_type": "code",
      "execution_count": null,
      "metadata": {
        "id": "FgPR1qk_hold"
      },
      "outputs": [],
      "source": [
        "fit = Minuit(costfunction, name=parameters.keys(), *parameters.values())"
      ]
    },
    {
      "cell_type": "code",
      "execution_count": null,
      "metadata": {
        "id": "QEPQ8vd5h3cZ"
      },
      "outputs": [],
      "source": [
        "# Ranges should only be positive\n",
        "if 'nr_amplitude' in parameters:\n",
        "  fit.limits[\"nr_amplitude\"] = (0, None)\n",
        "  fit.limits[\"nr_phase\"] = (0, 2*np.pi)\n",
        "for i in range(maxnres):\n",
        "  if 'r'+str(i)+'_amplitude' in parameters:\n",
        "    fit.limits['r'+str(i)+'_amplitude'] = (0, None)\n",
        "    fit.limits['r'+str(i)+'_pos'] = (WMin, WMax)\n",
        "    fit.limits['r'+str(i)+'_width'] = (0, None)"
      ]
    },
    {
      "cell_type": "code",
      "execution_count": null,
      "metadata": {
        "id": "lntoHt8qh694"
      },
      "outputs": [],
      "source": [
        "# In case we want to keep a parameter fixed\n",
        "fit.fixed[\"nr_phase\"] = False"
      ]
    },
    {
      "cell_type": "code",
      "execution_count": null,
      "metadata": {
        "colab": {
          "base_uri": "https://localhost:8080/",
          "height": 653
        },
        "id": "FTfR5IR6h-fR",
        "outputId": "5098c915-144e-41a7-fa9e-ba86f0eaa2ea"
      },
      "outputs": [],
      "source": [
        "# perform the fit\n",
        "fit.migrad()"
      ]
    },
    {
      "cell_type": "code",
      "execution_count": null,
      "metadata": {
        "colab": {
          "base_uri": "https://localhost:8080/"
        },
        "id": "BpRVv2L0gV_y",
        "outputId": "27423343-4017-49e0-90ca-258b508fd342"
      },
      "outputs": [],
      "source": [
        "optimized_parameters = dict(zip(parameters.keys(),[p.value for p in fit.params]))\n",
        "optimized_parameters"
      ]
    },
    {
      "cell_type": "code",
      "execution_count": null,
      "metadata": {
        "colab": {
          "base_uri": "https://localhost:8080/",
          "height": 447
        },
        "id": "Mtv4GOR7nT6_",
        "outputId": "a9bfa54d-4e65-4525-ddb5-91135f8971e1"
      },
      "outputs": [],
      "source": [
        "plt.plot(filtered_data['Wavenumbers'],calcamplitude(*optimized_parameters.values()))\n",
        "plt.plot(filtered_data['Wavenumbers'],filtered_data['SFG'])"
      ]
    },
    {
      "cell_type": "code",
      "execution_count": null,
      "metadata": {
        "colab": {
          "base_uri": "https://localhost:8080/",
          "height": 447
        },
        "id": "MvRYJ9gRnXlD",
        "outputId": "0d9bdbf6-f733-4756-888e-75bceeab3471"
      },
      "outputs": [],
      "source": [
        "plt.plot(filtered_data['Wavenumbers'],calcimaginary(*optimized_parameters.values()))"
      ]
    },
    {
      "cell_type": "markdown",
      "metadata": {
        "id": "uKQLgAZ-0VYI"
      },
      "source": [
        "## Currying the cost function\n",
        "This approach allows to associate the data (wavenumber and sfg) to the cost function so that there is no potential issue of which data is used in the fit"
      ]
    },
    {
      "cell_type": "code",
      "execution_count": null,
      "metadata": {
        "id": "QqGyLaYSs9gs"
      },
      "outputs": [],
      "source": [
        "from typing import Callable\n",
        "def curry(data: np.ndarray, func: Callable) -> Callable :\n",
        "\n",
        "  def curriedfunc(*args):\n",
        "    return func(data, *args)\n",
        "\n",
        "  return curriedfunc\n",
        "\n",
        "def costfunction_of_sfg(sfg: np.ndarray[np.float64], *args) -> np.float64 :\n",
        "  return np.sum((sfg - calcamplitude(*args))**2)\n",
        "\n",
        "def calcamplitude_of_wavenumbers(wavenumbers: np.ndarray[np.float64], *args) -> np.ndarray[np.float64] :\n",
        "  Chi = np.zeros(wavenumbers.shape,dtype=np.complex128)\n",
        "  Chi = Chi + chi_non_resonant(args[0], args[1])\n",
        "  nres = (len(args)-2)//3\n",
        "  for i in range(nres):\n",
        "    iarg = 3*i+2\n",
        "    ChiR = chi_resonant(wavenumbers, args[iarg], args[iarg+1], args[iarg+2])\n",
        "    Chi = Chi + ChiR\n",
        "  return np.square(Chi.real) + np.square(Chi.imag)\n",
        "\n",
        "def calcimaginary_of_wavenumbers(wavenumbers: np.ndarray[np.float64], *args) -> np.ndarray[np.float64]:\n",
        "  Chi = np.zeros(wavenumbers.shape,dtype=np.complex128)\n",
        "  Chi = Chi + chi_non_resonant(args[0], args[1])\n",
        "  nres = (len(args)-2)//3\n",
        "  for i in range(nres):\n",
        "    iarg = 3*i+2\n",
        "    ChiR = chi_resonant(wavenumbers, args[iarg], args[iarg+1], args[iarg+2])\n",
        "    Chi = Chi + ChiR\n",
        "  return Chi.imag"
      ]
    },
    {
      "cell_type": "markdown",
      "metadata": {
        "id": "m5xpUUT70v8T"
      },
      "source": [
        "Whenever we filter the data and generate the two arrays of `wavenumbers` and `sfg`, we should execute the following cell to create the corresponding functions in that interval"
      ]
    },
    {
      "cell_type": "code",
      "execution_count": null,
      "metadata": {
        "id": "6otTm4AiwWcy"
      },
      "outputs": [],
      "source": [
        "calcamplitude = curry(wavenumbers,calcamplitude_of_wavenumbers)\n",
        "calcimaginary = curry(wavenumbers,calcimaginary_of_wavenumbers)\n",
        "costfunction = curry(sfg,costfunction_of_sfg)\n",
        "costfunction.errordef = Minuit.LEAST_SQUARES"
      ]
    },
    {
      "cell_type": "code",
      "execution_count": null,
      "metadata": {
        "id": "Iyd1N2yDwqda"
      },
      "outputs": [],
      "source": [
        "fit = Minuit(costfunction, name=parameters.keys(), *parameters.values())"
      ]
    },
    {
      "cell_type": "code",
      "execution_count": null,
      "metadata": {
        "id": "xXQD9Dhrw4Er"
      },
      "outputs": [],
      "source": [
        "# Ranges should only be positive\n",
        "if 'nr_amplitude' in parameters:\n",
        "  fit.limits[\"nr_amplitude\"] = (0, None)\n",
        "  fit.limits[\"nr_phase\"] = (0, 2*np.pi)\n",
        "for i in range((len(parameters)-2)//3):\n",
        "  if 'r'+str(i)+'_amplitude' in parameters:\n",
        "    fit.limits['r'+str(i)+'_amplitude'] = (0, None)\n",
        "    fit.limits['r'+str(i)+'_pos'] = (WMin, WMax)\n",
        "    fit.limits['r'+str(i)+'_width'] = (0, None)"
      ]
    },
    {
      "cell_type": "code",
      "execution_count": null,
      "metadata": {
        "id": "O2gCTgsuw7Eq"
      },
      "outputs": [],
      "source": [
        "# perform the fit\n",
        "fit.migrad()\n",
        "optimized_parameters = dict(zip(parameters.keys(),[p.value for p in fit.params]))"
      ]
    },
    {
      "cell_type": "code",
      "execution_count": null,
      "metadata": {
        "colab": {
          "base_uri": "https://localhost:8080/",
          "height": 447
        },
        "id": "UAQEJ862x6N1",
        "outputId": "f4bfe345-14f6-4c0d-c3e1-f00b782dac1b"
      },
      "outputs": [],
      "source": [
        "plt.plot(filtered_data['Wavenumbers'],calcamplitude(*optimized_parameters.values()))\n",
        "plt.plot(filtered_data['Wavenumbers'],filtered_data['SFG'])"
      ]
    },
    {
      "cell_type": "code",
      "execution_count": null,
      "metadata": {
        "colab": {
          "base_uri": "https://localhost:8080/",
          "height": 447
        },
        "id": "q43sPvnZw9wF",
        "outputId": "1897270d-553e-4e2a-c8ff-de744ae8d923"
      },
      "outputs": [],
      "source": [
        "plt.plot(filtered_data['Wavenumbers'],calcimaginary(*optimized_parameters.values()))"
      ]
    },
    {
      "cell_type": "markdown",
      "metadata": {
        "id": "ArQg8vzK3kfl"
      },
      "source": [
        "## Combine everything to fit six resonances"
      ]
    },
    {
      "cell_type": "code",
      "execution_count": null,
      "metadata": {
        "colab": {
          "base_uri": "https://localhost:8080/",
          "height": 449
        },
        "id": "v4Xvss9GyagZ",
        "outputId": "35338856-ecf9-44f8-99e1-eee211cc57ca"
      },
      "outputs": [],
      "source": [
        "# @title Resize the window of the spectrum { display-mode: \"form\" }\n",
        "WMin = 2700 # @param {type:\"number\"}\n",
        "WMax  = 3800 # @param {type:\"number\"}\n",
        "filtered_data = data.query(f'Wavenumbers > {WMin} and Wavenumbers < {WMax}').copy()\n",
        "filtered_data.plot('Wavenumbers','SFG')\n",
        "wavenumbers = filtered_data['Wavenumbers'].values\n",
        "sfg = filtered_data['SFG'].values"
      ]
    },
    {
      "cell_type": "code",
      "execution_count": null,
      "metadata": {
        "id": "ijxtIsOl3ruZ"
      },
      "outputs": [],
      "source": [
        "calcamplitude = curry(wavenumbers,calcamplitude_of_wavenumbers)\n",
        "calcimaginary = curry(wavenumbers,calcimaginary_of_wavenumbers)\n",
        "costfunction = curry(sfg,costfunction_of_sfg)\n",
        "costfunction.errordef = Minuit.LEAST_SQUARES"
      ]
    },
    {
      "cell_type": "code",
      "execution_count": null,
      "metadata": {
        "id": "q9tFwXzw37kP"
      },
      "outputs": [],
      "source": [
        "# Parameters for each peak\n",
        "# Change to parameters in water\n",
        "nr = { \"amplitude\": 0.10399,\n",
        "       \"phase\": np.pi }\n",
        "r0 = { \"amplitude\" : 3,\n",
        "       \"pos\" : 2870.,\n",
        "       \"width\" : 20 }\n",
        "r1 = { \"amplitude\": 7,\n",
        "       \"pos\": 2800,\n",
        "       \"width\": 50 }\n",
        "r2 = { \"amplitude\": 4,\n",
        "       \"pos\": 2780,\n",
        "       \"width\": 20 }\n",
        "r3 = { \"amplitude\": 1,\n",
        "       \"pos\": 3100,\n",
        "       \"width\": 50 }\n",
        "r4 = { \"amplitude\": 1,\n",
        "       \"pos\": 3350,\n",
        "       \"width\": 50 }\n",
        "r5 = { \"amplitude\": 1,\n",
        "       \"pos\": 3500,\n",
        "       \"width\": 50 }\n",
        "\n",
        "resonant_list = [r0, r1, r2, r3, r4, r5]"
      ]
    },
    {
      "cell_type": "code",
      "execution_count": null,
      "metadata": {
        "id": "QUF0nqQTT6tq"
      },
      "outputs": [],
      "source": [
        "# Let's assume that we will always have a nonresonant dictionary plus a list of resonant dictionaries\n",
        "# NOTE: this function allows to have different names for the resonant peak dictionaries\n",
        "# and we can select which ones we add when we call the function\n",
        "def combine_params( nonresonant_params: dict, resonant_list: list[dict] ) -> dict :\n",
        "  # start with the nonresonant parameters\n",
        "  parameters = { 'nr_'+k: v for k,v in nonresonant_params.items() }\n",
        "  # add the resonant parameters naming them r1_ , r2_ , r3_, ...\n",
        "  nres = len(resonant_list)\n",
        "  for i, resonant_params in enumerate(resonant_list):\n",
        "    new = {'r'+str(i)+'_'+k:v for k,v in resonant_params.items() }\n",
        "    parameters = {**parameters, **new}\n",
        "  return parameters"
      ]
    },
    {
      "cell_type": "code",
      "execution_count": null,
      "metadata": {
        "colab": {
          "base_uri": "https://localhost:8080/"
        },
        "id": "BahWIYScWLwI",
        "outputId": "2824fa62-d091-400d-a2e2-b55a9debf661"
      },
      "outputs": [],
      "source": [
        "combine_params( nr, [r0, r1, r2, r3, r4, r5]) # NOTE: the names in this list may not correspond to the final names of the parameters, if you change the order"
      ]
    },
    {
      "cell_type": "code",
      "execution_count": null,
      "metadata": {
        "colab": {
          "base_uri": "https://localhost:8080/"
        },
        "id": "7e0WIAOn4Om5",
        "outputId": "9eb161aa-41e6-4496-f60f-1e86535be610"
      },
      "outputs": [],
      "source": [
        "parameters = combine_params(nr, resonant_list)\n",
        "print(parameters)"
      ]
    },
    {
      "cell_type": "code",
      "execution_count": null,
      "metadata": {
        "id": "Zt29iV6C4ycd"
      },
      "outputs": [],
      "source": [
        "fit = Minuit(costfunction, name=parameters.keys(), *parameters.values())"
      ]
    },
    {
      "cell_type": "code",
      "execution_count": null,
      "metadata": {
        "id": "lWfndsLb5JpP"
      },
      "outputs": [],
      "source": [
        "# Ranges should only be positive\n",
        "if 'nr_amplitude' in parameters:\n",
        "  fit.limits[\"nr_amplitude\"] = (0, None)\n",
        "  fit.limits[\"nr_phase\"] = (0, 2*np.pi)\n",
        "for i in range((len(parameters)-2//3)):\n",
        "  if 'r'+str(i)+'_amplitude' in parameters:\n",
        "    fit.limits['r'+str(i)+'_amplitude'] = (0, None)\n",
        "    fit.limits['r'+str(i)+'_pos'] = (WMin, WMax)\n",
        "    fit.limits['r'+str(i)+'_width'] = (0, None)"
      ]
    },
    {
      "cell_type": "code",
      "execution_count": null,
      "metadata": {
        "colab": {
          "base_uri": "https://localhost:8080/",
          "height": 1000
        },
        "id": "S-LWvFCW4_qK",
        "outputId": "124b3095-3a5e-433d-8215-22594875ff15"
      },
      "outputs": [],
      "source": [
        "fit.migrad()"
      ]
    },
    {
      "cell_type": "code",
      "execution_count": null,
      "metadata": {
        "id": "jUlN-e5A5BN4"
      },
      "outputs": [],
      "source": [
        "optimized_parameters = dict(zip(parameters.keys(),[p.value for p in fit.params]))"
      ]
    },
    {
      "cell_type": "code",
      "execution_count": null,
      "metadata": {
        "colab": {
          "base_uri": "https://localhost:8080/",
          "height": 447
        },
        "id": "gKMUS8H-5foB",
        "outputId": "88aa6964-12a6-424d-fa40-e149b822d3c6"
      },
      "outputs": [],
      "source": [
        "plt.plot(filtered_data['Wavenumbers'],calcamplitude(*optimized_parameters.values()))\n",
        "plt.plot(filtered_data['Wavenumbers'],filtered_data['SFG'])"
      ]
    },
    {
      "cell_type": "code",
      "execution_count": null,
      "metadata": {
        "colab": {
          "base_uri": "https://localhost:8080/",
          "height": 451
        },
        "id": "EKuABKRh5jyF",
        "outputId": "20e3a38a-3ecf-49a4-88be-593295c9f57c"
      },
      "outputs": [],
      "source": [
        "plt.plot(filtered_data['Wavenumbers'],calcimaginary(*optimized_parameters.values()))"
      ]
    },
    {
      "cell_type": "code",
      "execution_count": null,
      "metadata": {
        "id": "VeIdfxe57GGM"
      },
      "outputs": [],
      "source": []
    }
  ],
  "metadata": {
    "colab": {
      "provenance": []
    },
    "kernelspec": {
      "display_name": "Python 3",
      "name": "python3"
    },
    "language_info": {
      "name": "python"
    }
  },
  "nbformat": 4,
  "nbformat_minor": 0
}
