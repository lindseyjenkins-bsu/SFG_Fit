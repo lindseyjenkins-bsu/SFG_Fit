{
  "cells": [
    {
      "cell_type": "markdown",
      "metadata": {
        "id": "RrGkfBUhbZaO"
      },
      "source": [
        "# Fitting SFG Curves with Multiple Resonant Peaks\n",
        "Using the iminuit package, select a window of SFG spectra and perform a non-linear fit of nonresonant and a variable number ($N^{res}$) of resonant peaks accoring to the equation\n",
        "$$ \\mathrm{SFG}(\\omega) = \\left| A^{nonres}e^{i\\phi} + \\sum_{j=0}^{N^{res}}\\frac{A^{res}_j}{\\omega - \\omega^{res}_j+i\\Gamma_j}\\right|^2 $$\n",
        "where the parameters that we want to determine are the nonresonant amplitue ($A^{nonres}$) and phase ($\\phi$), as well as the amplitude, position, and width of each resonant peak ($A^{res}_j$, $\\omega^{res}_j$, and $\\Gamma_j$, respectively).\n",
        "\n",
        "Developers : Oliviero Andreussi, Lindsey Jenkins, Tiara Sivells, Pranav Viswanathan, Jenee Cyran\n"
      ]
    },
    {
      "cell_type": "markdown",
      "metadata": {
        "id": "yP0yJJKQNktU"
      },
      "source": [
        "## Mount the Google Drive"
      ]
    },
    {
      "cell_type": "code",
      "execution_count": null,
      "metadata": {
        "colab": {
          "base_uri": "https://localhost:8080/"
        },
        "id": "0AnDQJeYGWXS",
        "outputId": "03957e59-6f9b-40b6-9328-974d3a614465"
      },
      "outputs": [],
      "source": [
        "from google.colab import drive\n",
        "drive.mount('/content/drive')"
      ]
    },
    {
      "cell_type": "markdown",
      "metadata": {
        "id": "B7Oq-i8qNwz2"
      },
      "source": [
        "## Import External Modules"
      ]
    },
    {
      "cell_type": "code",
      "execution_count": null,
      "metadata": {
        "colab": {
          "base_uri": "https://localhost:8080/"
        },
        "id": "NwPTreNGvkM3",
        "outputId": "dbbbc56e-559c-4933-ac23-5af4f3dd58c7"
      },
      "outputs": [],
      "source": [
        "import matplotlib.pyplot as plt\n",
        "import numpy as np\n",
        "import pandas as pd\n",
        "!pip install iminuit\n",
        "from iminuit import Minuit"
      ]
    },
    {
      "cell_type": "markdown",
      "metadata": {
        "id": "EWn49Cvpekjq"
      },
      "source": [
        "## Define Basic Functions for the Fitting"
      ]
    },
    {
      "cell_type": "code",
      "execution_count": null,
      "metadata": {
        "id": "ggA7aMuvJ5nF"
      },
      "outputs": [],
      "source": [
        "# Basic functions for the fitting of nonresonant and resonant peaks\n",
        "def chi_non_resonant(nr: float, phase: float) -> np.complex128 :\n",
        "  \"\"\"\n",
        "  Given the non-resonant parameters return a single complex-valued number\n",
        "  for the non-resonant process\n",
        "  \"\"\"\n",
        "  ChiNR = nr * np.exp(1j * phase)\n",
        "  return ChiNR\n",
        "\n",
        "def chi_resonant(wavenumbers: np.ndarray[np.float64], amplitude: float, pos: float, width: float) -> np.ndarray[np.complex128]:\n",
        "  \"\"\"\n",
        "  Given a range of wavenumbers and the parameters of a resonant peak return\n",
        "  the complex values of the peak for each wavenumber\n",
        "  \"\"\"\n",
        "  A = amplitude\n",
        "  delta = wavenumbers - pos\n",
        "  gamma = width / 2\n",
        "  ChiR_i = -(A * gamma / (delta**2 + gamma**2))\n",
        "  ChiR_r = A * delta / (delta**2 + gamma**2)\n",
        "  ChiR = ChiR_r + (1j * ChiR_i)\n",
        "  return ChiR"
      ]
    },
    {
      "cell_type": "code",
      "execution_count": null,
      "metadata": {
        "id": "MWZhADhh_bXK"
      },
      "outputs": [],
      "source": [
        "from typing import Callable\n",
        "def curry(data: np.ndarray, func: Callable) -> Callable :\n",
        "\n",
        "  def curriedfunc(*args):\n",
        "    return func(data, *args)\n",
        "\n",
        "  return curriedfunc\n",
        "\n",
        "def costfunction_of_sfg(sfg: np.ndarray[np.float64], *args) -> np.float64 :\n",
        "  return np.sum((sfg - calcamplitude(*args))**2)\n",
        "\n",
        "def calcamplitude_of_wavenumbers(wavenumbers: np.ndarray[np.float64], *args) -> np.ndarray[np.float64] :\n",
        "  Chi = np.zeros(wavenumbers.shape,dtype=np.complex128)\n",
        "  Chi = Chi + chi_non_resonant(args[0], args[1])\n",
        "  nres = (len(args)-2)//3\n",
        "  for i in range(nres):\n",
        "    iarg = 3*i+2\n",
        "    ChiR = chi_resonant(wavenumbers, args[iarg], args[iarg+1], args[iarg+2])\n",
        "    Chi = Chi + ChiR\n",
        "  return np.square(Chi.real) + np.square(Chi.imag)\n",
        "\n",
        "def calcimaginary_of_wavenumbers(wavenumbers: np.ndarray[np.float64], *args) -> np.ndarray[np.float64]:\n",
        "  Chi = np.zeros(wavenumbers.shape,dtype=np.complex128)\n",
        "  Chi = Chi + chi_non_resonant(args[0], args[1])\n",
        "  nres = (len(args)-2)//3\n",
        "  for i in range(nres):\n",
        "    iarg = 3*i+2\n",
        "    ChiR = chi_resonant(wavenumbers, args[iarg], args[iarg+1], args[iarg+2])\n",
        "    Chi = Chi + ChiR\n",
        "  return Chi.imag"
      ]
    },
    {
      "cell_type": "code",
      "execution_count": null,
      "metadata": {
        "id": "CkuiBpmd_xdl"
      },
      "outputs": [],
      "source": [
        "# Let's assume that we will always have a nonresonant dictionary plus a list of resonant dictionaries\n",
        "# NOTE: this function allows to have different names for the resonant peak dictionaries\n",
        "# and we can select which ones we add when we call the function\n",
        "def combine_params( nonresonant_params: dict, resonant_list: list[dict] ) -> dict :\n",
        "  # start with the nonresonant parameters\n",
        "  parameters = { 'nr_'+k: v for k,v in nonresonant_params.items() }\n",
        "  # add the resonant parameters naming them r1_ , r2_ , r3_, ...\n",
        "  nres = len(resonant_list)\n",
        "  for i, resonant_params in enumerate(resonant_list):\n",
        "    new = {'r'+str(i)+'_'+k:v for k,v in resonant_params.items() }\n",
        "    parameters = {**parameters, **new}\n",
        "  return parameters"
      ]
    },
    {
      "cell_type": "markdown",
      "metadata": {
        "id": "aO1BOBjoOAMH"
      },
      "source": [
        "## Load Data"
      ]
    },
    {
      "cell_type": "code",
      "execution_count": null,
      "metadata": {
        "id": "PkdntaEKuooq"
      },
      "outputs": [],
      "source": [
        "# @title Set path and select file { display-mode: \"form\" }\n",
        "# Data should be cleaned using MATLAB data cleaner first\n",
        "path = '/content/drive/MyDrive/Colab Notebooks/' # @param {type:\"string\"}\n",
        "filename = 'cleanIce8.csv' # @param {type:\"string\"}\n",
        "data = pd.read_csv(path+filename,names=['Wavenumbers','SFG'],skiprows=1)"
      ]
    },
    {
      "cell_type": "markdown",
      "metadata": {
        "id": "TNlgK0xJPGTH"
      },
      "source": [
        "## Plot of data"
      ]
    },
    {
      "cell_type": "code",
      "execution_count": null,
      "metadata": {
        "colab": {
          "base_uri": "https://localhost:8080/",
          "height": 466
        },
        "id": "eyNFA111HT_q",
        "outputId": "8712c5ff-6e98-4e94-85f1-2c5238901cd7"
      },
      "outputs": [],
      "source": [
        "data.plot('Wavenumbers', 'SFG')"
      ]
    },
    {
      "cell_type": "code",
      "execution_count": null,
      "metadata": {
        "colab": {
          "base_uri": "https://localhost:8080/",
          "height": 449
        },
        "id": "VpzCx_6cIYzu",
        "outputId": "e289dfdb-3ac3-438e-9fe6-3543d1db9a93"
      },
      "outputs": [],
      "source": [
        "# @title Resize the window of the spectrum { display-mode: \"form\" }\n",
        "WMin = 2990 # @param {type:\"number\"}\n",
        "WMax  = 3400 # @param {type:\"number\"}\n",
        "filtered_data = data.query(f'Wavenumbers > {WMin} and Wavenumbers < {WMax}')\n",
        "# Plots the data with the new range\n",
        "filtered_data.plot('Wavenumbers','SFG')\n",
        "wavenumbers = filtered_data['Wavenumbers'].values\n",
        "sfg = filtered_data['SFG'].values\n",
        "calcamplitude = curry(wavenumbers,calcamplitude_of_wavenumbers)\n",
        "calcimaginary = curry(wavenumbers,calcimaginary_of_wavenumbers)\n",
        "costfunction = curry(sfg,costfunction_of_sfg)\n",
        "costfunction.errordef = Minuit.LEAST_SQUARES"
      ]
    },
    {
      "cell_type": "code",
      "execution_count": null,
      "metadata": {
        "colab": {
          "base_uri": "https://localhost:8080/",
          "height": 447
        },
        "id": "NExJsUI0P16b",
        "outputId": "8e9376b2-30c3-434b-c749-16a9d22712fb"
      },
      "outputs": [],
      "source": [
        "# @title Adjust the initial parameters to check the convergence of the fit { display-mode: \"form\" }\n",
        "nonres_amplitude = 0.011 # @param {type:\"number\"}\n",
        "nonres_phase  = 3.6# @param {type:\"number\"}\n",
        "res_amplitude = 1.5 # @param {type:\"number\"}\n",
        "res_pos = 3100 # @param {type:\"number\"}\n",
        "res_width = 100 # @param {type:\"number\"}\n",
        "\n",
        "nr = { \"amplitude\": nonres_amplitude,\n",
        "       \"phase\": nonres_phase }\n",
        "r0 = { \"amplitude\" : res_amplitude,\n",
        "       \"pos\" : res_pos,\n",
        "       \"width\" : res_width }\n",
        "resonant_list = [r0]\n",
        "parameters = combine_params( nr, resonant_list)\n",
        "\n",
        "fit = Minuit(costfunction, name=parameters.keys(), *parameters.values())\n",
        "\n",
        "# Ranges should only be positive\n",
        "if 'nr_amplitude' in parameters:\n",
        "  fit.limits[\"nr_amplitude\"] = (0, None)\n",
        "  fit.limits[\"nr_phase\"] = (0, 2*np.pi)\n",
        "for i in range((len(parameters)-2//3)):\n",
        "  if 'r'+str(i)+'_amplitude' in parameters:\n",
        "    fit.limits['r'+str(i)+'_amplitude'] = (0, None)\n",
        "    fit.limits['r'+str(i)+'_pos'] = (WMin, WMax)\n",
        "    fit.limits['r'+str(i)+'_width'] = (0, None)\n",
        "\n",
        "fit.fixed[\"nr_amplitude\"] = True\n",
        "fit.fixed[\"nr_phase\"] = True\n",
        "\n",
        "# perform the fit\n",
        "fit.migrad()\n",
        "\n",
        "# plot result of fit with optimized parameters vs. experiment\n",
        "plt.plot(filtered_data['Wavenumbers'],calcamplitude(fit.params[0].value,fit.params[1].value,fit.params[2].value,fit.params[3].value,fit.params[4].value))\n",
        "plt.plot(filtered_data['Wavenumbers'],filtered_data['SFG'])"
      ]
    },
    {
      "cell_type": "markdown",
      "metadata": {
        "id": "MbCNTr33sSZT"
      },
      "source": [
        "This step performs the actual optmization of the parameters (the results look cool, not sure what all these numbers mean...)"
      ]
    },
    {
      "cell_type": "markdown",
      "metadata": {
        "id": "F3Z-2enUsvFP"
      },
      "source": [
        "We can access the final value and associated error with the .value and .error attributes"
      ]
    },
    {
      "cell_type": "code",
      "execution_count": null,
      "metadata": {
        "colab": {
          "base_uri": "https://localhost:8080/"
        },
        "id": "93Mvg5uArXnh",
        "outputId": "b6ab3e42-c389-4024-d3bc-7a8ebd52c300"
      },
      "outputs": [],
      "source": [
        "print(fit.params[0].value,fit.params[1].value,fit.params[2].value,fit.params[3].value,fit.params[4].value)"
      ]
    },
    {
      "cell_type": "markdown",
      "metadata": {
        "id": "9Tk4FQmmtJsi"
      },
      "source": [
        "Now we can reuse the calcamplitude function with the optimal parameters to compare to the experimental data"
      ]
    },
    {
      "cell_type": "markdown",
      "metadata": {
        "id": "ArQg8vzK3kfl"
      },
      "source": [
        "## Combine everything to fit six resonances"
      ]
    },
    {
      "cell_type": "code",
      "execution_count": null,
      "metadata": {
        "colab": {
          "base_uri": "https://localhost:8080/",
          "height": 449
        },
        "id": "v4Xvss9GyagZ",
        "outputId": "4daa5b57-164d-40b2-d0ce-90d7fc788a96"
      },
      "outputs": [],
      "source": [
        "# @title Resize the window of the spectrum { display-mode: \"form\" }\n",
        "WMin = 2750 # @param {type:\"number\"}\n",
        "WMax  = 3400 # @param {type:\"number\"}\n",
        "filtered_data = data.query(f'Wavenumbers > {WMin} and Wavenumbers < {WMax}').copy()\n",
        "filtered_data.plot('Wavenumbers','SFG')\n",
        "wavenumbers = filtered_data['Wavenumbers'].values\n",
        "sfg = filtered_data['SFG'].values\n",
        "calcamplitude = curry(wavenumbers,calcamplitude_of_wavenumbers)\n",
        "calcimaginary = curry(wavenumbers,calcimaginary_of_wavenumbers)\n",
        "costfunction = curry(sfg,costfunction_of_sfg)\n",
        "costfunction.errordef = Minuit.LEAST_SQUARES"
      ]
    },
    {
      "cell_type": "code",
      "execution_count": null,
      "metadata": {
        "colab": {
          "base_uri": "https://localhost:8080/",
          "height": 779
        },
        "id": "s_epTu-jECZY",
        "outputId": "8b51ce1a-2f34-40dc-a28a-19f214ec8a82"
      },
      "outputs": [],
      "source": [
        "nr = { \"amplitude\": 0.011,\n",
        "       \"phase\": 3.6 }\n",
        "r0 = { \"amplitude\" : 0.8,\n",
        "       \"pos\" : 2826,\n",
        "       \"width\" : 30 }\n",
        "r1 = { \"amplitude\" : 1,\n",
        "       \"pos\" : 2943,\n",
        "       \"width\" : 47 }\n",
        "r2 = { \"amplitude\" : 5,\n",
        "       \"pos\" : 3150,\n",
        "       \"width\" : 170 }\n",
        "r3 = { \"amplitude\" : 2,\n",
        "       \"pos\" : 3214,\n",
        "       \"width\" : 170 }\n",
        "\n",
        "\n",
        "resonant_list = [r0, r1, r2, r3]\n",
        "parameters = combine_params( nr, resonant_list)\n",
        "\n",
        "fit = Minuit(costfunction, name=parameters.keys(), *parameters.values())\n",
        "\n",
        "# Ranges should only be positive\n",
        "if 'nr_amplitude' in parameters:\n",
        "  fit.limits[\"nr_amplitude\"] = (0, None)\n",
        "  fit.limits[\"nr_phase\"] = (0, 2*np.pi)\n",
        "for i in range((len(parameters)-2//3)):\n",
        "  if 'r'+str(i)+'_amplitude' in parameters:\n",
        "    fit.limits['r'+str(i)+'_amplitude'] = (0, None)\n",
        "    fit.limits['r'+str(i)+'_pos'] = (WMin, WMax)\n",
        "    fit.limits['r'+str(i)+'_width'] = (0, None)\n",
        "\n",
        "#fit.fixed[\"nr_amplitude\"] = True\n",
        "#fit.fixed[\"nr_phase\"] = True\n",
        "\n",
        "# perform the fit\n",
        "fit.migrad()\n"
      ]
    },
    {
      "cell_type": "code",
      "execution_count": null,
      "metadata": {
        "id": "jUlN-e5A5BN4"
      },
      "outputs": [],
      "source": [
        "optimized_parameters = dict(zip(parameters.keys(),[p.value for p in fit.params]))"
      ]
    },
    {
      "cell_type": "code",
      "execution_count": null,
      "metadata": {
        "colab": {
          "base_uri": "https://localhost:8080/"
        },
        "id": "qwloGOquEgoW",
        "outputId": "38ccf461-73df-49f2-d1c2-60b89576ad37"
      },
      "outputs": [],
      "source": [
        "optimized_parameters.values()"
      ]
    },
    {
      "cell_type": "code",
      "execution_count": null,
      "metadata": {
        "colab": {
          "base_uri": "https://localhost:8080/",
          "height": 447
        },
        "id": "gKMUS8H-5foB",
        "outputId": "8463b3c7-8d5b-4aca-cc44-3a8da37e1bd5"
      },
      "outputs": [],
      "source": [
        "plt.plot(filtered_data['Wavenumbers'],calcamplitude(*optimized_parameters.values()))\n",
        "plt.plot(filtered_data['Wavenumbers'],filtered_data['SFG'])"
      ]
    },
    {
      "cell_type": "code",
      "execution_count": null,
      "metadata": {
        "colab": {
          "base_uri": "https://localhost:8080/",
          "height": 447
        },
        "id": "EKuABKRh5jyF",
        "outputId": "94fb89e5-b167-4f1a-8e0a-f34f6b9a5eec"
      },
      "outputs": [],
      "source": [
        "plt.plot(filtered_data['Wavenumbers'],calcimaginary(*optimized_parameters.values()))"
      ]
    }
  ],
  "metadata": {
    "colab": {
      "provenance": []
    },
    "kernelspec": {
      "display_name": "Python 3",
      "name": "python3"
    },
    "language_info": {
      "name": "python"
    }
  },
  "nbformat": 4,
  "nbformat_minor": 0
}
